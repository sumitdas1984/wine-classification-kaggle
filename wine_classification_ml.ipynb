{
 "cells": [
  {
   "cell_type": "code",
   "execution_count": 1,
   "metadata": {},
   "outputs": [],
   "source": [
    "import numpy as np\n",
    "from sklearn.naive_bayes import MultinomialNB\n",
    "from sklearn.svm import SVC\n",
    "from sklearn.feature_extraction.text import CountVectorizer\n",
    "import pandas as pd\n",
    "from collections import Counter\n",
    "from sklearn.model_selection import train_test_split\n",
    "from sklearn.feature_extraction.text import TfidfTransformer"
   ]
  },
  {
   "cell_type": "markdown",
   "metadata": {},
   "source": [
    "# Machine Learning Approach"
   ]
  },
  {
   "cell_type": "code",
   "execution_count": 2,
   "metadata": {
    "scrolled": true
   },
   "outputs": [],
   "source": [
    "# loading the wine data\n",
    "df = pd.read_csv('data/winemag-data-130k-v2.csv')"
   ]
  },
  {
   "cell_type": "markdown",
   "metadata": {},
   "source": [
    "## Data Exploration"
   ]
  },
  {
   "cell_type": "code",
   "execution_count": 3,
   "metadata": {},
   "outputs": [
    {
     "data": {
      "text/plain": [
       "708"
      ]
     },
     "execution_count": 3,
     "metadata": {},
     "output_type": "execute_result"
    }
   ],
   "source": [
    "len(df.variety.unique().tolist())"
   ]
  },
  {
   "cell_type": "code",
   "execution_count": 4,
   "metadata": {
    "scrolled": true
   },
   "outputs": [
    {
     "data": {
      "text/plain": [
       "Pinot Noir                        13272\n",
       "Chardonnay                        11753\n",
       "Cabernet Sauvignon                 9472\n",
       "Red Blend                          8946\n",
       "Bordeaux-style Red Blend           6915\n",
       "Riesling                           5189\n",
       "Sauvignon Blanc                    4967\n",
       "Syrah                              4142\n",
       "Rosé                               3564\n",
       "Merlot                             3102\n",
       "Nebbiolo                           2804\n",
       "Zinfandel                          2714\n",
       "Sangiovese                         2707\n",
       "Malbec                             2652\n",
       "Portuguese Red                     2466\n",
       "White Blend                        2360\n",
       "Sparkling Blend                    2153\n",
       "Tempranillo                        1810\n",
       "Rhône-style Red Blend              1471\n",
       "Pinot Gris                         1455\n",
       "Champagne Blend                    1396\n",
       "Cabernet Franc                     1353\n",
       "Grüner Veltliner                   1345\n",
       "Portuguese White                   1159\n",
       "Bordeaux-style White Blend         1066\n",
       "Pinot Grigio                       1052\n",
       "Gamay                              1025\n",
       "Gewürztraminer                     1012\n",
       "Viognier                            996\n",
       "Shiraz                              836\n",
       "                                  ...  \n",
       "Verdosilla                            1\n",
       "Grenache Gris                         1\n",
       "Roussanne-Grenache Blanc              1\n",
       "Pinotage-Merlot                       1\n",
       "Syrah-Malbec                          1\n",
       "Maria Gomes-Bical                     1\n",
       "Jampal                                1\n",
       "Teroldego Rotaliano                   1\n",
       "Xinisteri                             1\n",
       "Albanello                             1\n",
       "Muscadel                              1\n",
       "Mavrotragano                          1\n",
       "Malagouzia-Chardonnay                 1\n",
       "Tintilia                              1\n",
       "Silvaner-Traminer                     1\n",
       "Folle Blanche                         1\n",
       "Sauvignon Blanc-Sauvignon Gris        1\n",
       "Biancu Gentile                        1\n",
       "Tamianka                              1\n",
       "Athiri                                1\n",
       "Karalahna                             1\n",
       "Carcajolu                             1\n",
       "Ondenc                                1\n",
       "Trajadura                             1\n",
       "Sauvignon-Sémillon                    1\n",
       "Gamza                                 1\n",
       "Doña Blanca                           1\n",
       "Malbec-Carménère                      1\n",
       "Paralleda                             1\n",
       "Favorita                              1\n",
       "Name: variety, Length: 707, dtype: int64"
      ]
     },
     "execution_count": 4,
     "metadata": {},
     "output_type": "execute_result"
    }
   ],
   "source": [
    "# wine variety and data counts\n",
    "df.variety.value_counts()"
   ]
  },
  {
   "cell_type": "markdown",
   "metadata": {},
   "source": [
    "## Preparing the data"
   ]
  },
  {
   "cell_type": "code",
   "execution_count": 5,
   "metadata": {},
   "outputs": [],
   "source": [
    "# taking the top 10 variety\n",
    "counter = Counter(df['variety'].tolist())\n",
    "top_10_varieties = {i[0]: idx for idx, i in enumerate(counter.most_common(10))}\n",
    "df = df[df['variety'].map(lambda x: x in top_10_varieties)]"
   ]
  },
  {
   "cell_type": "code",
   "execution_count": 6,
   "metadata": {},
   "outputs": [],
   "source": [
    "# getting the description text\n",
    "description_list = df['description'].tolist()\n",
    "varietal_list = [top_10_varieties[i] for i in df['variety'].tolist()]\n",
    "varietal_list = np.array(varietal_list)"
   ]
  },
  {
   "cell_type": "code",
   "execution_count": 6,
   "metadata": {},
   "outputs": [],
   "source": [
    "# finding the tfidf matrix\n",
    "count_vect = CountVectorizer()\n",
    "x_train_counts = count_vect.fit_transform(description_list)\n",
    "tfidf_transformer = TfidfTransformer()\n",
    "x_train_tfidf = tfidf_transformer.fit_transform(x_train_counts)\n",
    "\n",
    "# splitting the data into train/test\n",
    "train_x, test_x, train_y, test_y = train_test_split(x_train_tfidf, varietal_list, test_size=0.3)"
   ]
  },
  {
   "cell_type": "markdown",
   "metadata": {},
   "source": [
    "## Training our ML model"
   ]
  },
  {
   "cell_type": "code",
   "execution_count": 9,
   "metadata": {},
   "outputs": [],
   "source": [
    "# training the model\n",
    "clf = MultinomialNB().fit(train_x, train_y)\n",
    "# clf = SVC(kernel='linear').fit(train_x, train_y)"
   ]
  },
  {
   "cell_type": "markdown",
   "metadata": {},
   "source": [
    "## Calculating the evaluation metrices"
   ]
  },
  {
   "cell_type": "code",
   "execution_count": 10,
   "metadata": {},
   "outputs": [],
   "source": [
    "y_score = clf.predict(test_x)\n",
    "\n",
    "# finding the accuracy number\n",
    "n_right = 0\n",
    "for i in range(len(y_score)):\n",
    "    if y_score[i] == test_y[i]:\n",
    "        n_right += 1\n",
    "\n",
    "print(\"Accuracy: %.2f%%\" % ((n_right/float(len(test_y)) * 100)))"
   ]
  },
  {
   "cell_type": "code",
   "execution_count": null,
   "metadata": {},
   "outputs": [],
   "source": []
  }
 ],
 "metadata": {
  "kernelspec": {
   "display_name": "Python 3",
   "language": "python",
   "name": "python3"
  },
  "language_info": {
   "codemirror_mode": {
    "name": "ipython",
    "version": 3
   },
   "file_extension": ".py",
   "mimetype": "text/x-python",
   "name": "python",
   "nbconvert_exporter": "python",
   "pygments_lexer": "ipython3",
   "version": "3.6.5"
  }
 },
 "nbformat": 4,
 "nbformat_minor": 2
}
